{
 "cells": [
  {
   "cell_type": "code",
   "execution_count": 7,
   "metadata": {
    "collapsed": false,
    "nbpresent": {
     "id": "fdc9035e-52fb-45dd-be1f-88970bda0634"
    }
   },
   "outputs": [],
   "source": [
    "import tensorflow as tf\n",
    "import numpy as np\n"
   ]
  },
  {
   "cell_type": "code",
   "execution_count": 44,
   "metadata": {
    "collapsed": false,
    "nbpresent": {
     "id": "0d7abf63-688c-48e7-a16a-50eebd5110a2"
    }
   },
   "outputs": [],
   "source": [
    "#define graph\n",
    "N, D, H = 64, 1000, 100\n",
    "\n",
    "#input node of graph\n",
    "x = tf.placeholder(tf.float32, shape = (N,D))\n",
    "y = tf.placeholder(tf.float32, shape = (N,D))\n",
    "#w1 = tf.placeholder(tf.float32, shape = (D,H))\n",
    "#w2 = tf.placeholder(tf.float32, shape = (H,D))\n",
    "\n",
    "#Ensure working on GPU instead of numpy\n",
    "#w1 = tf.Variable(tf.random_normal((D,H)))\n",
    "#w2 = tf.Variable(tf.random_normal((H,D)))\n",
    "init = tf.contrib.layers.xavier_initializer()\n",
    "\n",
    "#h = tf.maximum(tf.matmul(x,w1), 0)\n",
    "h = tf.layers.dense(inputs=x, units=H, \n",
    "                    activation=tf.nn.relu, kernel_initializer=init)\n",
    "#y_pred = tf.matmul(h, w2)\n",
    "y_pred = tf.layers.dense(inputs=h, units=D, kernel_initializer=init)\n",
    "\n",
    "#diff = y_pred - y\n",
    "#loss = tf.reduce_mean(tf.reduce_sum(diff ** 2, axis=1))\n",
    "loss = tf.losses.mean_squared_error(y_pred, y)\n",
    "\n",
    "#grad_w1, grad_w2 = tf.gradients(loss, [w1, w2])\n",
    "#learning_rate = 1e-5\n",
    "optimizer = tf.train.GradientDescentOptimizer(1e-3)\n",
    "#new_w1 = w1.assign(w1 - learning_rate * grad_w1)\n",
    "#new_w2 = w2.assign(w2 - learning_rate * grad_w2)\n",
    "updates = optimizer.minimize(loss)"
   ]
  },
  {
   "cell_type": "code",
   "execution_count": 45,
   "metadata": {
    "collapsed": false,
    "nbpresent": {
     "id": "2072b6f0-7688-4f15-8cc9-cb402c226dcc"
    }
   },
   "outputs": [],
   "source": [
    "#reuse graph\n",
    "with tf.Session() as sess:\n",
    "    sess.run(tf.global_variables_initializer())\n",
    "    values = {x: np.random.randn(N, D),\n",
    "             #w1: np.random.randn(D, H),\n",
    "             #w2: np.random.randn(H, D),\n",
    "             y: np.random.randn(N, D),\n",
    "            }\n",
    "    #learning_rate = 1e-5\n",
    "    for t in range(50):\n",
    "        loss_val, _ = sess.run([loss,updates], feed_dict=values)\n",
    "        #loss_val, grad_w1_val, grad_w2_val = out\n",
    "        #loss_val, updates = out\n",
    "        #values[w1] -= learning_rate * grad_w1_val\n",
    "        #values[w2] -= learning_rate * grad_w2_val"
   ]
  },
  {
   "cell_type": "code",
   "execution_count": 46,
   "metadata": {
    "collapsed": false,
    "nbpresent": {
     "id": "4c33c173-8e1f-46e7-baaa-d67f0e8e65af"
    }
   },
   "outputs": [
    {
     "data": {
      "text/plain": [
       "(1.1687146,\n",
       " array([[-11627.187  ,   2785.5151 ,   6580.0356 , ...,    932.6196 ,\n",
       "           -977.75757,   7721.5166 ],\n",
       "        [ -3316.2664 ,   3444.6836 ,    389.74005, ...,  -1484.6982 ,\n",
       "           3686.6511 ,  -2441.9438 ],\n",
       "        [  -404.86588,  -7587.9243 ,  10063.68   , ...,  -1558.0593 ,\n",
       "          -1089.6072 ,  -1247.8596 ],\n",
       "        ...,\n",
       "        [ -2022.8545 ,   1049.8273 ,  -4418.4937 , ...,   2809.7988 ,\n",
       "            573.89624,   4162.9663 ],\n",
       "        [ -3667.9712 ,    990.6791 ,  -1861.5659 , ...,  -4840.34   ,\n",
       "          -7136.626  ,   -289.82666],\n",
       "        [ -8285.842  ,   1598.8121 ,  -2438.733  , ...,  -5088.715  ,\n",
       "          -1338.5591 ,  -8548.643  ]], dtype=float32),\n",
       " array([[-2677.099   ,  1646.9479  ,   684.10333 , ..., -3401.3638  ,\n",
       "         -3595.519   ,   951.2312  ],\n",
       "        [-1517.342   ,    45.088562,  1000.06775 , ..., -3631.4001  ,\n",
       "         -2592.126   , -1906.18    ],\n",
       "        [ -781.11957 ,    12.404785,  2904.565   , ..., -4246.2393  ,\n",
       "         -2442.4722  ,   299.3101  ],\n",
       "        ...,\n",
       "        [-4826.528   ,  3343.1008  ,  1031.9987  , ..., -1816.5709  ,\n",
       "         -3963.8315  ,   275.74927 ],\n",
       "        [-1879.0795  ,  1062.9774  ,   -27.185299, ..., -2696.758   ,\n",
       "         -1977.1982  ,    52.356537],\n",
       "        [-1159.5714  ,  1048.1361  ,  1986.5201  , ..., -3085.0386  ,\n",
       "         -1322.7117  ,  -419.5001  ]], dtype=float32))"
      ]
     },
     "execution_count": 46,
     "metadata": {},
     "output_type": "execute_result"
    }
   ],
   "source": [
    "loss_val, grad_w1_val, grad_w2_val"
   ]
  },
  {
   "cell_type": "code",
   "execution_count": null,
   "metadata": {
    "collapsed": true
   },
   "outputs": [],
   "source": []
  }
 ],
 "metadata": {
  "kernelspec": {
   "display_name": "Python [Anaconda3]",
   "language": "python",
   "name": "Python [Anaconda3]"
  },
  "language_info": {
   "codemirror_mode": {
    "name": "ipython",
    "version": 3
   },
   "file_extension": ".py",
   "mimetype": "text/x-python",
   "name": "python",
   "nbconvert_exporter": "python",
   "pygments_lexer": "ipython3",
   "version": "3.5.2"
  }
 },
 "nbformat": 4,
 "nbformat_minor": 0
}
