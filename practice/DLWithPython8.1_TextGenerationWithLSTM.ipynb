{
 "cells": [
  {
   "cell_type": "code",
   "execution_count": 29,
   "metadata": {
    "collapsed": false
   },
   "outputs": [],
   "source": [
    "# Reweighting a probability distribution to a different temperature\n",
    "import numpy as np\n",
    "def reweight_distribution(original_distribution, temperature=0.5) :\n",
    "    distribution = np.log(original_distribution) / temperature\n",
    "    distribution = np.exp(distribution)\n",
    "    return distribution/np.sum(distribution)\n",
    "\n",
    "import keras\n",
    "import numpy as np\n",
    "\n",
    "path = keras.utils.get_file('nietzsche.txt',\n",
    "                           origin='https://s3.amazonaws.com/text-datasets/nietzsche.txt')\n",
    "text = open(path).read().lower()\n"
   ]
  },
  {
   "cell_type": "code",
   "execution_count": 33,
   "metadata": {
    "collapsed": false
   },
   "outputs": [
    {
     "name": "stdout",
     "output_type": "stream",
     "text": [
      "Corpus length: 600901\n",
      "Number of sequences: 200281\n",
      "First sequences: preface\n",
      "\n",
      "\n",
      "supposing that truth is a woman--what then? is the\n",
      "First sequences follow by: r\n"
     ]
    }
   ],
   "source": [
    "print('Corpus length:', len(text))\n",
    "maxlen = 60\n",
    "step=3\n",
    "sentences = []\n",
    "next_chars = []\n",
    "\n",
    "for i in range(0, len(text) - maxlen, step):\n",
    "    sentences.append(text[i: i + maxlen])\n",
    "    next_chars.append(text[i + maxlen])\n",
    "\n",
    "print('Number of sequences:', len(sentences))\n",
    "print('First sequences:', sentences[0])\n",
    "print('First sequences follow by:', next_chars[0])\n"
   ]
  },
  {
   "cell_type": "code",
   "execution_count": 34,
   "metadata": {
    "collapsed": false
   },
   "outputs": [
    {
     "name": "stdout",
     "output_type": "stream",
     "text": [
      "Uniq Char: 59\n",
      "Vectorization...\n"
     ]
    }
   ],
   "source": [
    "\n",
    "chars = sorted(list(set(text)))\n",
    "\n",
    "print('Uniq Char:', len(chars))\n",
    "\n",
    "char_indices = dict((char, chars.index(char)) for char in chars)\n",
    "\n",
    "print('Vectorization...')\n",
    "x = np.zeros((len(sentences),maxlen,len(chars)), dtype=np.bool)\n",
    "y = np.zeros((len(sentences), len(chars)), dtype=np.bool)\n",
    "\n",
    "for i, sentence in enumerate(sentences):\n",
    "    for t, char in enumerate(sentence):\n",
    "        x[i, t, char_indices[char]] = 1\n",
    "    y[i, char_indices[next_chars[i]]] = 1"
   ]
  },
  {
   "cell_type": "code",
   "execution_count": 39,
   "metadata": {
    "collapsed": false
   },
   "outputs": [
    {
     "name": "stdout",
     "output_type": "stream",
     "text": [
      "_________________________________________________________________\n",
      "Layer (type)                 Output Shape              Param #   \n",
      "=================================================================\n",
      "lstm_2 (LSTM)                (None, 128)               96256     \n",
      "_________________________________________________________________\n",
      "dense_2 (Dense)              (None, 59)                7611      \n",
      "=================================================================\n",
      "Total params: 103,867\n",
      "Trainable params: 103,867\n",
      "Non-trainable params: 0\n",
      "_________________________________________________________________\n"
     ]
    }
   ],
   "source": [
    "from keras import layers\n",
    "\n",
    "model = keras.models.Sequential()\n",
    "model.add(layers.LSTM(128, input_shape=(maxlen, len(chars))))\n",
    "model.add(layers.Dense(len(chars), activation='softmax'))\n",
    "optimizer = keras.optimizers.RMSprop(lr=0.01)\n",
    "model.compile(loss='categorical_crossentropy', optimizer=optimizer)\n",
    "model.summary()"
   ]
  },
  {
   "cell_type": "code",
   "execution_count": 48,
   "metadata": {
    "collapsed": false
   },
   "outputs": [
    {
     "name": "stdout",
     "output_type": "stream",
     "text": [
      "epoch 1\n",
      "Epoch 1/1\n",
      "200281/200281 [==============================] - 101s 505us/step - loss: 1.6448\n",
      "--- Generating with seed: \"spirituality. of what use is it for\n",
      "nimble, everyday intelle\"\n",
      "\n",
      "------ temerature: 0.2\n",
      "spirituality. of what use is it for\n",
      "nimble, everyday intellect, and the superinger and there is the sense of the sense of the sense of the self the sense of the sulf and the sense of the senses of the sense of the sense of the sense of the sure and the sense of the served to the are the persons of the superingered and there is the sense of the sense of the sense of the sense of the soul of the sense of the superinges and the most man and there is the sense\n",
      "------ temerature: 0.5\n",
      "se of the superinges and the most man and there is the sense of manifess is all all in a the will superiority to a comparation of the all the deperish, his instandus a man a understand to the manifest is one in the same and only regards of the\n",
      "sance of the defering that is the \"constince to the wears and the gree gree course and that in the world lever to such and the understoring as a though too be the are of himself in the seulity and they men of the has\n",
      "------ temerature: 1.0\n",
      "be the are of himself in the seulity and they men of the has man\n",
      "in inentever; and doeminnure contratily with on there old\n",
      "indivory but almange of foren of more very belong of there\n",
      "it is gods that the tage an every und is  the\n",
      "others, but ranger ant darnially religiouss himself of anythorigy.=in ye expeaditiment, bad on the contrady tometo there of all as\n",
      "i there is it be\n",
      "lohep superspiciously i perhaps, passible ? that is aasunt heureawm as pli\"ent\n",
      "and r\n",
      "------ temerature: 1.2\n",
      "perhaps, passible ? that is aasunt heureawm as pli\"ent\n",
      "and rotronded b. they aher\n",
      "againncyo lich new oud all afterpome and is only grang everymmens, altu way of man-ampt of relield. not \"that almonder hould, are sensed bednow-do classability and receasr and creato mowuze beceprons becalessement of the\n",
      "lreve of misiblex-lart on unrex musind\n",
      "this masunt it yean man\n",
      "eurale\n",
      "of the sta=itumantorsips, that his meanor,\"nine to metally hsmarin. that hhape to risalepoch 2\n",
      "Epoch 1/1\n",
      "200281/200281 [==============================] - 103s 515us/step - loss: 1.5526\n",
      "--- Generating with seed: \"r whole future, if they had a future, such a statesman\n",
      "would\"\n",
      "\n",
      "------ temerature: 0.2\n",
      "r whole future, if they had a future, such a statesman\n",
      "would be a same the most and subtrains the sense of the same the most and the soul of the soul of the senses of the worss of the feels and something and the feels the feels the sense of the most of the wors the feels the most desires of the sense of the more the sense of the most most and the most more the sense of the person of the contronce the sense of the person is a morality of the sense of the mo\n",
      "------ temerature: 0.5\n",
      "the sense of the person is a morality of the sense of the most philosophy in fact of the falsay to such a morality of\n",
      "their laws of the reason of the belies considered in the sense it were seems and the sense of the found that the seeks with in any thinks is the complination. the sublishe words and readous of sublish the senses is also and \"will the more what is not in morality of such a like the looks and such a sensed the desposition with the intains of \n",
      "------ temerature: 1.0\n",
      "looks and such a sensed the desposition with the intains of sensely more mo-inglorhment will have has\n",
      "wised, will anytinced, as\n",
      "attashes. what\n",
      "eamsers misnquectified become upon him, all man and heed the wantay attactow-la let for\n",
      "the way its\n",
      "are wooks my this himself deself may of in the senses, even and created to mass slugh.\n",
      "\n",
      "7co\n",
      "rons. kind,\n",
      "no mosters, oblage which with dolms--wordseis antil grew let with the world: \"gewa ungurmed growld: inlate unife'\n",
      "------ temerature: 1.2\n",
      "rew let with the world: \"gewa ungurmed growld: inlate unife's-nitts and the impossibility! hes noble. giod rapiss exoru thatingly will\n",
      "yiows stible.\n",
      "\"very andument unyperty eaws they pan --those depunciaus\n",
      "dengress, word,\"\n",
      "and in the whans-wasttigespecty.inon of elobouss; uncos to. \n",
      "indocted paeks, older-consciently unsee taking off ribitical preciliticing. the\n",
      "enocungiousness, otisimisality through he see-st betrmed curintis imint, as iftellecte d will prepoch 3\n",
      "Epoch 1/1\n",
      "200281/200281 [==============================] - 103s 513us/step - loss: 1.5040\n",
      "--- Generating with seed: \"\n",
      "of moral values, and saw, read, and interpreted these oppos\"\n",
      "\n",
      "------ temerature: 0.2\n",
      "\n",
      "of moral values, and saw, read, and interpreted these opposite of the word the present the same and condification of the same of the same and powers of the senses of the present the consequent the samely and the persons of the conduct and the consequent the same as a personal spiritual process of the persons of the senses and perished the power of the contradict of the senses of the commanders, and what he was the persons of the word the present the germa\n",
      "------ temerature: 0.5\n",
      "nd what he was the persons of the word the present the german intercousm in the great promest and greet and conduct with all interpocess of the very and intertage, and at the extent only indeverated to something contradict of the certainly and the destine here, and the extently.\n",
      "\n",
      "\n",
      "11\n",
      "\n",
      "=conduct one not is in the regards and the moral instinct of the pressed and past there is the never to the prover and and moral strive and most to contrades, in the fine, an\n",
      "------ temerature: 1.0\n",
      " and and moral strive and most to contrades, in the fine, and soquetes, at possibled gaved, and knowledge, even, into philosopeves, and sylodamenty\n",
      "wishal and tastiful on\n",
      "authals! fundaasher must german\n",
      "to poon to called inivatiation itself-acted nauch\n",
      "with, nosly struceingy, who leves possable\n",
      "of sholl, which is feeling \"underate\n",
      "feelithed. germany should mosticism, must be sole, when got moral in\n",
      "ancial nations wooked inarricious, but incermant this coul\n",
      "------ temerature: 1.2\n",
      "n\n",
      "ancial nations wooked inarricious, but incermant this could befornaled, which he must \n",
      "the vabileitred instrustical names burden ass-harsestririal, wiolour\n",
      "one condificated\n",
      "-but so so no value with-the mebent stifiligrou hightx of alre arester (why when how for us to desires and truthful clushation;- an menders; we\n",
      "him only a know\n",
      "perils godund.w--that  \n",
      "moturing perhass, \"favouroble, conscience?, unevery fremol gorowing-lates on himselves \" firseld. mepepoch 4\n",
      "Epoch 1/1\n",
      "200281/200281 [==============================] - 104s 518us/step - loss: 1.4741\n",
      "--- Generating with seed: \"frederick resulted from the anxiety of a profound\n",
      "instinct. \"\n",
      "\n",
      "------ temerature: 0.2\n",
      "frederick resulted from the anxiety of a profound\n",
      "instinct. the wort, and in the sense and self-significance of the self-power of the fathers of the spirits of the self-contemptions of the destricted the self-sense in the self-contrary to be some contempts of the proponsible and as a soul, and the self-propounty and the self-superiority and individual sense of the self-supreme and self-continue in a such a say the demand and experience, the an end in the d\n",
      "------ temerature: 0.5\n",
      " a such a say the demand and experience, the an end in the does actually anticism all-that we love he says the profound which has been the statiot of the are a delights and perhaps the distoed and the sense and the probable problem the wild worthy of have in one distance, when he be not be a man with even for one are a sense in the individual hard of the dangerous the consistent, and so in what is a regards the an moral tradetic proverny the still the prob\n",
      "------ temerature: 1.0\n",
      " a regards the an moral tradetic proverny the still the problems and has to just of whie op a moral despility and\n",
      "emotions of doesester\n",
      "then love moral folled inspire hists for no birtes, the extent estriated, and be in, and singled is the convidanged id than with conhertions by wy\n",
      "sessive far alsological great thenly a develorified,\n",
      "assitude indeemesty and\n",
      "even some\", \"iving is disconduie of philosophy as ariir, with the christianily, there are distance, \n",
      "------ temerature: 1.2\n",
      "osophy as ariir, with the christianily, there are distance, wil not bread themselvesent its of existencms, were, but antiress--un\n",
      "therid necoced iphiking wart by\n",
      "man should inypromit. theregess insightness attair, vory for other sidenst--\n",
      "   i being higher perhapt\n",
      "glurality:\n",
      "gurde, ease. by divinesly. we has wake\n",
      "for thee the la very knowlds was a clivicary, the achausing traful\n",
      "honou of ba oursee: know, the\n",
      "perhing wech\n",
      "mear spovew a powing knowledge )pin"
     ]
    }
   ],
   "source": [
    "def sample(preds, temperature=1.0):\n",
    "    preds = np.asarray(preds).astype('float64')\n",
    "    preds = np.log(preds) / temperature\n",
    "    exp_preds = np.exp(preds)\n",
    "    preds = exp_preds / np.sum(exp_preds)\n",
    "    probas = np.random.multinomial(1,preds, 1)\n",
    "    return np.argmax(probas)\n",
    "\n",
    "import random\n",
    "import sys\n",
    "\n",
    "for epoch in range(1, 5):\n",
    "    print ('epoch', epoch)\n",
    "    model.fit(x,y,batch_size=128, epochs=1)\n",
    "    start_index = random.randint(0, len(text) -maxlen -1)\n",
    "    generated_text = text[start_index: start_index + maxlen]\n",
    "    print('--- Generating with seed: \"' + generated_text + '\"')\n",
    "    for temperature in [0.2, 0.5, 1.0, 1.2]:\n",
    "        print('\\n------ temerature:', temperature)\n",
    "        sys.stdout.write(generated_text)\n",
    "        for i in range(400):\n",
    "            sampled = np.zeros((1, maxlen, len(chars)))\n",
    "            for t, char in enumerate(generated_text):\n",
    "                sampled[0, t, char_indices[char]] = 1.\n",
    "\n",
    "            preds = model.predict(sampled, verbose=0)[0]\n",
    "            next_index = sample(preds, temperature)\n",
    "            next_char = chars[next_index]\n",
    "            generated_text += next_char\n",
    "            generated_text = generated_text[1:]\n",
    "            sys.stdout.write(next_char)"
   ]
  },
  {
   "cell_type": "code",
   "execution_count": 47,
   "metadata": {
    "collapsed": false
   },
   "outputs": [
    {
     "name": "stdout",
     "output_type": "stream",
     "text": [
      "--- Generating with seed: \"t has recognized this\n",
      "faculty as its sixth sense. owing to t\"\n",
      "\n",
      "------ temerature: 0.2\n",
      "t has recognized this\n",
      "faculty as its sixth sense. owing to the spirit and in the self--in the self-and a moral and the sense the self-grain and the sumple and a moral and a moral and the spirit and a stratition of the are a moral and a concrust and the spirit and the spirit and the spirit and the self--the spirit and the sensition of a moral and a morals and the are a moral and suppressition and the sense the his conspition and its is the sective and a mor\n",
      "------ temerature: 0.5\n",
      "he sense the his conspition and its is the sective and a moral, the souls and the sersed torder of the some that\n",
      "the such a proves the by friend works of he a chist to has externation of the deperhal and to the sumple a the agring of the discivery in their actime of in the a dout the serves and muss and the intome in the prover to\n",
      "discouls is the prodeders the love believe to the spirition of the fact a the self--the problems, the belies this be easured an\n",
      "------ temerature: 1.0\n",
      "fact a the self--the problems, the belies this be easured and\n",
      "percess\n",
      "spirat of meanly exprositicated the freeterval\n",
      "with the extrivate are \"effective that, diseriuce:--which the artided divilously, morging, profoping, morn meally deest intomenchored.--who be enseluso formely thing\n",
      "dimitumane--that it is discrue, but everkolosices any stitners, hinger; moran,\n",
      "his\n",
      "poward from everhing of knowledgement hives mech inullo-what its sold torothess of the regrial\n",
      "------ temerature: 1.2\n",
      "ent hives mech inullo-what its sold torothess of the regrial of soume dizial\"ted all brithel which itlich me afphiche accts and\n",
      "surpoly\n",
      "we man stcentless has but\n",
      "moslowines towhingly. only nom: it\"--thie preanry\n",
      "must a not obines, everythaidy, \n",
      "this\n",
      "frech the govst the provasompy\n",
      "fundimannet,\n",
      "whr be mrinsh, my impra-aity\n",
      "trisgles adings dy oll that spquectials of that uprays not or\n",
      "feinsworng \n",
      "to dil aby \"enonach of ther that letnels worbhe god, whie \"twel"
     ]
    }
   ],
   "source": [
    "start_index = random.randint(0, len(text) -maxlen -1)\n",
    "generated_text = text[start_index: start_index + maxlen]\n",
    "print('--- Generating with seed: \"' + generated_text + '\"')\n",
    "for temperature in [0.2, 0.5, 1.0, 1.2]:\n",
    "    print('\\n------ temerature:', temperature)\n",
    "    sys.stdout.write(generated_text)\n",
    "    for i in range(400):\n",
    "        sampled = np.zeros((1, maxlen, len(chars)))\n",
    "        for t, char in enumerate(generated_text):\n",
    "            sampled[0, t, char_indices[char]] = 1.\n",
    "\n",
    "        preds = model.predict(sampled, verbose=0)[0]\n",
    "        next_index = sample(preds, temperature)\n",
    "        next_char = chars[next_index]\n",
    "        generated_text += next_char\n",
    "        generated_text = generated_text[1:]\n",
    "        sys.stdout.write(next_char)"
   ]
  },
  {
   "cell_type": "code",
   "execution_count": null,
   "metadata": {
    "collapsed": true
   },
   "outputs": [],
   "source": []
  }
 ],
 "metadata": {
  "kernelspec": {
   "display_name": "Python [Anaconda3]",
   "language": "python",
   "name": "Python [Anaconda3]"
  },
  "language_info": {
   "codemirror_mode": {
    "name": "ipython",
    "version": 3
   },
   "file_extension": ".py",
   "mimetype": "text/x-python",
   "name": "python",
   "nbconvert_exporter": "python",
   "pygments_lexer": "ipython3",
   "version": "3.5.2"
  }
 },
 "nbformat": 4,
 "nbformat_minor": 0
}
