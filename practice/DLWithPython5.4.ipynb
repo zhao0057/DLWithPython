{
 "cells": [
  {
   "cell_type": "code",
   "execution_count": 1,
   "metadata": {},
   "outputs": [
    {
     "data": {
      "text/plain": [
       "<tensorflow.python.client.session.Session at 0x227b4f91f98>"
      ]
     },
     "execution_count": 1,
     "metadata": {},
     "output_type": "execute_result"
    }
   ],
   "source": [
    "import os, shutil\n",
    "import tensorflow as tf\n",
    "#original_dataset_dir = 'c:/users/xinzhao/.kaggle/competitions/dogs-vs-cats/train/train'\n",
    "#base_dir = 'c:/users/xinzhao/.kaggle/competitions/dogs-vs-cats/smallset'\n",
    "\n",
    "original_dataset_dir = 'D:/kaggle/train/train'\n",
    "base_dir = 'D:/kaggle/train/smallset'\n",
    "\n",
    "config = tf.ConfigProto()\n",
    "config.gpu_options.allow_growth = True\n",
    "tf.Session(config=config)"
   ]
  },
  {
   "cell_type": "code",
   "execution_count": 2,
   "metadata": {},
   "outputs": [],
   "source": [
    "rerun_0 = 0\n",
    "rerun_1 = 1\n",
    "if rerun_1:\n",
    "    \n",
    "    train_dir = os.path.join(base_dir, 'train')\n",
    "    validation_dir = os.path.join(base_dir, 'validation')\n",
    "    test_dir = os.path.join(base_dir, 'test')\n",
    "\n",
    "    train_cats_dir = os.path.join(train_dir, 'cats')\n",
    "    train_dogs_dir = os.path.join(train_dir, 'dogs')\n",
    "\n",
    "    validation_cats_dir = os.path.join(validation_dir, 'cats')\n",
    "    validation_dogs_dir = os.path.join(validation_dir, 'dogs')\n",
    "\n",
    "    test_cats_dir = os.path.join(test_dir, 'cats')\n",
    "    test_dogs_dir = os.path.join(test_dir, 'dogs')\n",
    "    \n",
    "if rerun_0:\n",
    "    os.mkdir(base_dir)\n",
    "    os.mkdir(train_dir)\n",
    "    os.mkdir(validation_dir)\n",
    "    os.mkdir(test_dir)\n",
    "    \n",
    "    os.mkdir(train_cats_dir)\n",
    "    os.mkdir(train_dogs_dir)\n",
    "    os.mkdir(validation_cats_dir)\n",
    "    os.mkdir(validation_dogs_dir)\n",
    "    os.mkdir(test_cats_dir)\n",
    "    os.mkdir(test_dogs_dir)"
   ]
  },
  {
   "cell_type": "code",
   "execution_count": 3,
   "metadata": {},
   "outputs": [],
   "source": [
    "#from  IPython.core.debugger import Pdb; \n",
    "#Pdb().set_trace()\n",
    "\n",
    "if rerun_0:\n",
    "    fnames = ['cat.{}.jpg'.format(i) for i in range(1000)]\n",
    "    for fname in fnames:\n",
    "        src = os.path.join(original_dataset_dir,fname)\n",
    "        dst = os.path.join(train_cats_dir,fname)\n",
    "        shutil.copyfile(src,dst)\n",
    "        \n",
    "    fnames = ['cat.{}.jpg'.format(i) for i in range(1000,1500)]\n",
    "    for fname in fnames:\n",
    "        src = os.path.join(original_dataset_dir,fname)\n",
    "        dst = os.path.join(validation_cats_dir,fname)\n",
    "        shutil.copyfile(src,dst)\n",
    "    \n",
    "    fnames = ['cat.{}.jpg'.format(i) for i in range(1500,2000)]\n",
    "    for fname in fnames:\n",
    "        src = os.path.join(original_dataset_dir,fname)\n",
    "        dst = os.path.join(test_cats_dir,fname)\n",
    "        shutil.copyfile(src,dst)\n",
    "        \n",
    "    fnames = ['dog.{}.jpg'.format(i) for i in range(1000)]\n",
    "    for fname in fnames:\n",
    "        src = os.path.join(original_dataset_dir,fname)\n",
    "        dst = os.path.join(train_dogs_dir,fname)\n",
    "        shutil.copyfile(src,dst)\n",
    "        \n",
    "    fnames = ['dog.{}.jpg'.format(i) for i in range(1000,1500)]\n",
    "    for fname in fnames:\n",
    "        src = os.path.join(original_dataset_dir,fname)\n",
    "        dst = os.path.join(validation_dogs_dir,fname)\n",
    "        shutil.copyfile(src,dst)\n",
    "    \n",
    "    fnames = ['dog.{}.jpg'.format(i) for i in range(1500,2000)]\n",
    "    for fname in fnames:\n",
    "        src = os.path.join(original_dataset_dir,fname)\n",
    "        dst = os.path.join(test_dogs_dir,fname)\n",
    "        shutil.copyfile(src,dst)\n",
    "        "
   ]
  },
  {
   "cell_type": "code",
   "execution_count": 4,
   "metadata": {},
   "outputs": [
    {
     "name": "stdout",
     "output_type": "stream",
     "text": [
      "total training cat images: 1000\n",
      "total training dog images: 1000\n",
      "total validation cat images: 500\n",
      "total validation dog images: 500\n",
      "total test cat images: 500\n",
      "total test dog images: 500\n"
     ]
    }
   ],
   "source": [
    "print('total training cat images:', len(os.listdir(train_cats_dir)))\n",
    "print('total training dog images:', len(os.listdir(train_dogs_dir)))\n",
    "print('total validation cat images:', len(os.listdir(validation_cats_dir)))\n",
    "print('total validation dog images:', len(os.listdir(validation_dogs_dir)))\n",
    "print('total test cat images:', len(os.listdir(test_cats_dir)))\n",
    "print('total test dog images:', len(os.listdir(test_dogs_dir)))\n"
   ]
  },
  {
   "cell_type": "code",
   "execution_count": 14,
   "metadata": {},
   "outputs": [
    {
     "name": "stdout",
     "output_type": "stream",
     "text": [
      "Downloading data from https://github.com/fchollet/deep-learning-models/releases/download/v0.1/vgg16_weights_tf_dim_ordering_tf_kernels_notop.h5\n",
      "58892288/58889256 [==============================] - 42s 1us/step\n",
      "_________________________________________________________________\n",
      "Layer (type)                 Output Shape              Param #   \n",
      "=================================================================\n",
      "input_1 (InputLayer)         (None, 150, 150, 3)       0         \n",
      "_________________________________________________________________\n",
      "block1_conv1 (Conv2D)        (None, 150, 150, 64)      1792      \n",
      "_________________________________________________________________\n",
      "block1_conv2 (Conv2D)        (None, 150, 150, 64)      36928     \n",
      "_________________________________________________________________\n",
      "block1_pool (MaxPooling2D)   (None, 75, 75, 64)        0         \n",
      "_________________________________________________________________\n",
      "block2_conv1 (Conv2D)        (None, 75, 75, 128)       73856     \n",
      "_________________________________________________________________\n",
      "block2_conv2 (Conv2D)        (None, 75, 75, 128)       147584    \n",
      "_________________________________________________________________\n",
      "block2_pool (MaxPooling2D)   (None, 37, 37, 128)       0         \n",
      "_________________________________________________________________\n",
      "block3_conv1 (Conv2D)        (None, 37, 37, 256)       295168    \n",
      "_________________________________________________________________\n",
      "block3_conv2 (Conv2D)        (None, 37, 37, 256)       590080    \n",
      "_________________________________________________________________\n",
      "block3_conv3 (Conv2D)        (None, 37, 37, 256)       590080    \n",
      "_________________________________________________________________\n",
      "block3_pool (MaxPooling2D)   (None, 18, 18, 256)       0         \n",
      "_________________________________________________________________\n",
      "block4_conv1 (Conv2D)        (None, 18, 18, 512)       1180160   \n",
      "_________________________________________________________________\n",
      "block4_conv2 (Conv2D)        (None, 18, 18, 512)       2359808   \n",
      "_________________________________________________________________\n",
      "block4_conv3 (Conv2D)        (None, 18, 18, 512)       2359808   \n",
      "_________________________________________________________________\n",
      "block4_pool (MaxPooling2D)   (None, 9, 9, 512)         0         \n",
      "_________________________________________________________________\n",
      "block5_conv1 (Conv2D)        (None, 9, 9, 512)         2359808   \n",
      "_________________________________________________________________\n",
      "block5_conv2 (Conv2D)        (None, 9, 9, 512)         2359808   \n",
      "_________________________________________________________________\n",
      "block5_conv3 (Conv2D)        (None, 9, 9, 512)         2359808   \n",
      "_________________________________________________________________\n",
      "block5_pool (MaxPooling2D)   (None, 4, 4, 512)         0         \n",
      "=================================================================\n",
      "Total params: 14,714,688\n",
      "Trainable params: 14,714,688\n",
      "Non-trainable params: 0\n",
      "_________________________________________________________________\n"
     ]
    }
   ],
   "source": [
    "from keras import layers\n",
    "from keras import models\n",
    "from keras import optimizers\n",
    "from keras.applications import VGG16\n",
    "\n",
    "conv_base = VGG16(weights='imagenet',\n",
    "                 include_top=False,\n",
    "                 input_shape=(150,150,3))\n",
    "\n",
    "conv_base.summary()\n"
   ]
  },
  {
   "cell_type": "code",
   "execution_count": 35,
   "metadata": {},
   "outputs": [
    {
     "name": "stdout",
     "output_type": "stream",
     "text": [
      "_________________________________________________________________\n",
      "Layer (type)                 Output Shape              Param #   \n",
      "=================================================================\n",
      "vgg16 (Model)                (None, 4, 4, 512)         14714688  \n",
      "_________________________________________________________________\n",
      "flatten_14 (Flatten)         (None, 8192)              0         \n",
      "_________________________________________________________________\n",
      "dense_27 (Dense)             (None, 256)               2097408   \n",
      "_________________________________________________________________\n",
      "dense_28 (Dense)             (None, 1)                 257       \n",
      "=================================================================\n",
      "Total params: 16,812,353\n",
      "Trainable params: 2,097,665\n",
      "Non-trainable params: 14,714,688\n",
      "_________________________________________________________________\n"
     ]
    }
   ],
   "source": [
    "\n",
    "model = models.Sequential()\n",
    "#model.add(layers.Conv2D(32,(3,3), activation='relu', input_shape=(150,150,3)))\n",
    "#model.add(layers.MaxPooling2D((2,2)))\n",
    "#model.add(layers.Conv2D(64,(3,3), activation='relu'))\n",
    "#model.add(layers.MaxPooling2D((2,2)))\n",
    "#model.add(layers.Conv2D(128,(3,3), activation='relu'))\n",
    "#model.add(layers.MaxPooling2D((2,2)))\n",
    "#model.add(layers.Conv2D(128,(3,3), activation='relu'))\n",
    "#model.add(layers.MaxPooling2D((2,2)))\n",
    "\n",
    "#model.add(layers.Flatten())\n",
    "#model.add(layers.Dropout(0.5))\n",
    "#model.add(layers.Dense (512, activation = 'relu'))\n",
    "#model.add(layers.Dense (1, activation = 'sigmoid'))\n",
    "\n",
    "conv_base.trainable = False\n",
    "model.add(conv_base)\n",
    "model.add(layers.Flatten())\n",
    "model.add(layers.Dense (256, activation = 'relu'))\n",
    "model.add(layers.Dense (1, activation = 'sigmoid'))\n",
    "\n",
    "\n",
    "model.compile(optimizer=optimizers.RMSprop(lr=2e-5),\n",
    "             loss='binary_crossentropy',\n",
    "             metrics=['acc'])\n",
    "model.summary()\n"
   ]
  },
  {
   "cell_type": "code",
   "execution_count": 36,
   "metadata": {},
   "outputs": [
    {
     "data": {
      "text/plain": [
       "4"
      ]
     },
     "execution_count": 36,
     "metadata": {},
     "output_type": "execute_result"
    }
   ],
   "source": [
    "\n",
    "len(model.trainable_weights)"
   ]
  },
  {
   "cell_type": "code",
   "execution_count": 37,
   "metadata": {},
   "outputs": [
    {
     "name": "stdout",
     "output_type": "stream",
     "text": [
      "Found 2000 images belonging to 2 classes.\n",
      "Found 1000 images belonging to 2 classes.\n"
     ]
    }
   ],
   "source": [
    "from keras.preprocessing.image import ImageDataGenerator\n",
    "\n",
    "train_datagen = ImageDataGenerator (\n",
    "    rescale=1./255,\n",
    "    rotation_range=40,\n",
    "    width_shift_range=0.2,\n",
    "    height_shift_range=0.2,\n",
    "    shear_range=0.2,\n",
    "    zoom_range=0.2,\n",
    "    horizontal_flip=True)\n",
    "\n",
    "train_datagen = ImageDataGenerator(rescale=1./255)\n",
    "test_datagen = ImageDataGenerator(rescale=1./255)\n",
    "\n",
    "train_generator = train_datagen.flow_from_directory(train_dir, target_size=(150,150), batch_size=32, class_mode='binary')\n",
    "validation_generator = test_datagen.flow_from_directory(validation_dir, target_size=(150,150), batch_size=32, class_mode='binary')\n"
   ]
  },
  {
   "cell_type": "code",
   "execution_count": 38,
   "metadata": {},
   "outputs": [
    {
     "name": "stdout",
     "output_type": "stream",
     "text": [
      "data batch shape (32, 150, 150, 3)\n",
      "labels batch shape (32,)\n"
     ]
    }
   ],
   "source": [
    "for data_batch, labels_batch in train_generator:\n",
    "    print('data batch shape', data_batch.shape)\n",
    "    print('labels batch shape', labels_batch.shape)\n",
    "    break"
   ]
  },
  {
   "cell_type": "code",
   "execution_count": 39,
   "metadata": {
    "scrolled": true
   },
   "outputs": [
    {
     "name": "stdout",
     "output_type": "stream",
     "text": [
      "Epoch 1/100\n",
      "100/100 [==============================] - 49s 488ms/step - loss: 0.3769 - acc: 0.8328 - val_loss: 0.2751 - val_acc: 0.8883\n",
      "Epoch 2/100\n",
      "100/100 [==============================] - 14s 143ms/step - loss: 0.2194 - acc: 0.9147 - val_loss: 0.2460 - val_acc: 0.8991\n",
      "Epoch 3/100\n",
      "100/100 [==============================] - 14s 142ms/step - loss: 0.1595 - acc: 0.9378 - val_loss: 0.2480 - val_acc: 0.9016\n",
      "Epoch 4/100\n",
      "100/100 [==============================] - 14s 143ms/step - loss: 0.1190 - acc: 0.9581 - val_loss: 0.2473 - val_acc: 0.9010\n",
      "Epoch 5/100\n",
      "100/100 [==============================] - 14s 143ms/step - loss: 0.0853 - acc: 0.9759 - val_loss: 0.2810 - val_acc: 0.8877\n",
      "Epoch 6/100\n",
      "100/100 [==============================] - 14s 144ms/step - loss: 0.0631 - acc: 0.9838 - val_loss: 0.2521 - val_acc: 0.9061\n",
      "Epoch 7/100\n",
      "100/100 [==============================] - 15s 148ms/step - loss: 0.0503 - acc: 0.9891 - val_loss: 0.3479 - val_acc: 0.8712\n",
      "Epoch 8/100\n",
      "100/100 [==============================] - 15s 149ms/step - loss: 0.0342 - acc: 0.9934 - val_loss: 0.2958 - val_acc: 0.8934\n",
      "Epoch 9/100\n",
      "100/100 [==============================] - 15s 149ms/step - loss: 0.0259 - acc: 0.9962 - val_loss: 0.2897 - val_acc: 0.9036\n",
      "Epoch 10/100\n",
      "100/100 [==============================] - 15s 149ms/step - loss: 0.0179 - acc: 0.9991 - val_loss: 0.2996 - val_acc: 0.9061\n",
      "Epoch 11/100\n",
      "100/100 [==============================] - 15s 149ms/step - loss: 0.0138 - acc: 0.9984 - val_loss: 0.2849 - val_acc: 0.9150\n",
      "Epoch 12/100\n",
      "100/100 [==============================] - 15s 149ms/step - loss: 0.0099 - acc: 0.9994 - val_loss: 0.3190 - val_acc: 0.9080\n",
      "Epoch 13/100\n",
      "100/100 [==============================] - 15s 149ms/step - loss: 0.0069 - acc: 1.0000 - val_loss: 0.3719 - val_acc: 0.8972\n",
      "Epoch 14/100\n",
      "100/100 [==============================] - 15s 149ms/step - loss: 0.0062 - acc: 1.0000 - val_loss: 0.3458 - val_acc: 0.9055\n",
      "Epoch 15/100\n",
      "100/100 [==============================] - 15s 149ms/step - loss: 0.0042 - acc: 0.9997 - val_loss: 0.3806 - val_acc: 0.8985\n",
      "Epoch 16/100\n",
      "100/100 [==============================] - 15s 148ms/step - loss: 0.0027 - acc: 1.0000 - val_loss: 0.4246 - val_acc: 0.8928\n",
      "Epoch 17/100\n",
      "100/100 [==============================] - 15s 149ms/step - loss: 0.0023 - acc: 1.0000 - val_loss: 0.3965 - val_acc: 0.9029\n",
      "Epoch 18/100\n",
      "100/100 [==============================] - 15s 149ms/step - loss: 0.0022 - acc: 0.9997 - val_loss: 0.4318 - val_acc: 0.9023\n",
      "Epoch 19/100\n",
      "100/100 [==============================] - 15s 149ms/step - loss: 9.4045e-04 - acc: 1.0000 - val_loss: 0.4270 - val_acc: 0.9016\n",
      "Epoch 20/100\n",
      "100/100 [==============================] - 15s 149ms/step - loss: 0.0013 - acc: 1.0000 - val_loss: 0.4304 - val_acc: 0.9048\n",
      "Epoch 21/100\n",
      "100/100 [==============================] - 15s 149ms/step - loss: 7.4602e-04 - acc: 1.0000 - val_loss: 0.4404 - val_acc: 0.8934\n",
      "Epoch 22/100\n",
      "100/100 [==============================] - 15s 149ms/step - loss: 3.3730e-04 - acc: 1.0000 - val_loss: 0.4703 - val_acc: 0.9029\n",
      "Epoch 23/100\n",
      "100/100 [==============================] - 15s 151ms/step - loss: 4.4213e-04 - acc: 1.0000 - val_loss: 0.4948 - val_acc: 0.8953\n",
      "Epoch 24/100\n",
      "100/100 [==============================] - 15s 152ms/step - loss: 4.3597e-04 - acc: 1.0000 - val_loss: 0.5193 - val_acc: 0.8978\n",
      "Epoch 25/100\n",
      "100/100 [==============================] - 15s 151ms/step - loss: 3.6031e-04 - acc: 1.0000 - val_loss: 0.5210 - val_acc: 0.8997\n",
      "Epoch 26/100\n",
      "100/100 [==============================] - 15s 151ms/step - loss: 2.0413e-04 - acc: 1.0000 - val_loss: 0.5277 - val_acc: 0.9042\n",
      "Epoch 27/100\n",
      "100/100 [==============================] - 15s 151ms/step - loss: 1.2250e-04 - acc: 1.0000 - val_loss: 0.5530 - val_acc: 0.8978\n",
      "Epoch 28/100\n",
      "100/100 [==============================] - 15s 151ms/step - loss: 1.5683e-04 - acc: 1.0000 - val_loss: 0.5537 - val_acc: 0.8978\n",
      "Epoch 29/100\n",
      "100/100 [==============================] - 15s 150ms/step - loss: 8.5272e-05 - acc: 1.0000 - val_loss: 0.5527 - val_acc: 0.8997\n",
      "Epoch 30/100\n",
      "100/100 [==============================] - 15s 151ms/step - loss: 4.6254e-05 - acc: 1.0000 - val_loss: 0.6032 - val_acc: 0.8972\n",
      "Epoch 31/100\n",
      "100/100 [==============================] - 15s 152ms/step - loss: 6.3460e-05 - acc: 1.0000 - val_loss: 0.5935 - val_acc: 0.9016\n",
      "Epoch 32/100\n",
      "100/100 [==============================] - 15s 150ms/step - loss: 1.8223e-05 - acc: 1.0000 - val_loss: 0.5998 - val_acc: 0.8947\n",
      "Epoch 33/100\n",
      "100/100 [==============================] - 15s 151ms/step - loss: 4.1683e-05 - acc: 1.0000 - val_loss: 0.6524 - val_acc: 0.8966\n",
      "Epoch 34/100\n",
      "100/100 [==============================] - 15s 150ms/step - loss: 1.3164e-05 - acc: 1.0000 - val_loss: 0.6519 - val_acc: 0.8934\n",
      "Epoch 35/100\n",
      "100/100 [==============================] - 15s 151ms/step - loss: 1.3811e-05 - acc: 1.0000 - val_loss: 0.6689 - val_acc: 0.8940\n",
      "Epoch 36/100\n",
      "100/100 [==============================] - 15s 151ms/step - loss: 7.3833e-06 - acc: 1.0000 - val_loss: 0.7445 - val_acc: 0.8921\n",
      "Epoch 37/100\n",
      "100/100 [==============================] - 15s 152ms/step - loss: 1.4266e-05 - acc: 1.0000 - val_loss: 0.6692 - val_acc: 0.8991\n",
      "Epoch 38/100\n",
      "100/100 [==============================] - 15s 151ms/step - loss: 3.5721e-06 - acc: 1.0000 - val_loss: 0.6995 - val_acc: 0.8985\n",
      "Epoch 39/100\n",
      "100/100 [==============================] - 15s 151ms/step - loss: 5.6288e-06 - acc: 1.0000 - val_loss: 0.7155 - val_acc: 0.8934\n",
      "Epoch 40/100\n",
      "100/100 [==============================] - 15s 151ms/step - loss: 2.9798e-06 - acc: 1.0000 - val_loss: 0.7110 - val_acc: 0.8985\n",
      "Epoch 41/100\n",
      "100/100 [==============================] - 15s 151ms/step - loss: 1.0517e-06 - acc: 1.0000 - val_loss: 0.7184 - val_acc: 0.8972\n",
      "Epoch 42/100\n",
      "100/100 [==============================] - 15s 151ms/step - loss: 7.0556e-07 - acc: 1.0000 - val_loss: 0.7422 - val_acc: 0.9042\n",
      "Epoch 43/100\n",
      "100/100 [==============================] - 15s 151ms/step - loss: 4.4096e-07 - acc: 1.0000 - val_loss: 0.7834 - val_acc: 0.8947\n",
      "Epoch 44/100\n",
      "100/100 [==============================] - 15s 149ms/step - loss: 3.2339e-07 - acc: 1.0000 - val_loss: 0.8094 - val_acc: 0.8940\n",
      "Epoch 45/100\n",
      "100/100 [==============================] - 15s 151ms/step - loss: 2.5494e-07 - acc: 1.0000 - val_loss: 0.7866 - val_acc: 0.8966\n",
      "Epoch 46/100\n",
      "100/100 [==============================] - 15s 151ms/step - loss: 2.0606e-07 - acc: 1.0000 - val_loss: 0.8654 - val_acc: 0.8947\n",
      "Epoch 47/100\n",
      "100/100 [==============================] - 15s 152ms/step - loss: 1.7640e-07 - acc: 1.0000 - val_loss: 0.7820 - val_acc: 0.9004\n",
      "Epoch 48/100\n",
      "100/100 [==============================] - 15s 151ms/step - loss: 1.6590e-07 - acc: 1.0000 - val_loss: 0.8566 - val_acc: 0.8947\n",
      "Epoch 49/100\n",
      "100/100 [==============================] - 15s 151ms/step - loss: 1.5001e-07 - acc: 1.0000 - val_loss: 0.7798 - val_acc: 0.8966\n",
      "Epoch 50/100\n",
      "100/100 [==============================] - 15s 150ms/step - loss: 1.4083e-07 - acc: 1.0000 - val_loss: 0.8246 - val_acc: 0.8953\n",
      "Epoch 51/100\n",
      "100/100 [==============================] - 15s 151ms/step - loss: 1.3449e-07 - acc: 1.0000 - val_loss: 0.7716 - val_acc: 0.9010\n",
      "Epoch 52/100\n",
      "100/100 [==============================] - 15s 152ms/step - loss: 1.2839e-07 - acc: 1.0000 - val_loss: 0.8330 - val_acc: 0.8934\n",
      "Epoch 53/100\n",
      "100/100 [==============================] - 15s 151ms/step - loss: 1.2596e-07 - acc: 1.0000 - val_loss: 0.8547 - val_acc: 0.8934\n",
      "Epoch 54/100\n",
      "100/100 [==============================] - 15s 150ms/step - loss: 1.2284e-07 - acc: 1.0000 - val_loss: 0.8779 - val_acc: 0.8947\n",
      "Epoch 55/100\n",
      "100/100 [==============================] - 15s 151ms/step - loss: 1.2048e-07 - acc: 1.0000 - val_loss: 0.7945 - val_acc: 0.9004\n",
      "Epoch 56/100\n",
      "100/100 [==============================] - 15s 151ms/step - loss: 1.1911e-07 - acc: 1.0000 - val_loss: 0.8648 - val_acc: 0.8953\n",
      "Epoch 57/100\n",
      "100/100 [==============================] - 15s 151ms/step - loss: 1.1757e-07 - acc: 1.0000 - val_loss: 0.8512 - val_acc: 0.8978\n",
      "Epoch 58/100\n",
      "100/100 [==============================] - 15s 150ms/step - loss: 1.1631e-07 - acc: 1.0000 - val_loss: 0.8378 - val_acc: 0.8953\n",
      "Epoch 59/100\n",
      "100/100 [==============================] - 15s 151ms/step - loss: 1.1563e-07 - acc: 1.0000 - val_loss: 0.8534 - val_acc: 0.8928\n"
     ]
    },
    {
     "name": "stdout",
     "output_type": "stream",
     "text": [
      "Epoch 60/100\n",
      "100/100 [==============================] - 15s 150ms/step - loss: 1.1482e-07 - acc: 1.0000 - val_loss: 0.8583 - val_acc: 0.8959\n",
      "Epoch 61/100\n",
      "100/100 [==============================] - 15s 152ms/step - loss: 1.1405e-07 - acc: 1.0000 - val_loss: 0.7899 - val_acc: 0.8972\n",
      "Epoch 62/100\n",
      "100/100 [==============================] - 15s 151ms/step - loss: 1.1346e-07 - acc: 1.0000 - val_loss: 0.8970 - val_acc: 0.8928\n",
      "Epoch 63/100\n",
      "100/100 [==============================] - 15s 151ms/step - loss: 1.1269e-07 - acc: 1.0000 - val_loss: 0.8317 - val_acc: 0.9016\n",
      "Epoch 64/100\n",
      "100/100 [==============================] - 15s 151ms/step - loss: 1.1243e-07 - acc: 1.0000 - val_loss: 0.8440 - val_acc: 0.8953\n",
      "Epoch 65/100\n",
      "100/100 [==============================] - 15s 152ms/step - loss: 1.1190e-07 - acc: 1.0000 - val_loss: 0.8705 - val_acc: 0.8966\n",
      "Epoch 66/100\n",
      "100/100 [==============================] - 15s 151ms/step - loss: 1.1162e-07 - acc: 1.0000 - val_loss: 0.8481 - val_acc: 0.8966\n",
      "Epoch 67/100\n",
      "100/100 [==============================] - 15s 152ms/step - loss: 1.1168e-07 - acc: 1.0000 - val_loss: 0.8110 - val_acc: 0.8985\n",
      "Epoch 68/100\n",
      "100/100 [==============================] - 15s 152ms/step - loss: 1.1137e-07 - acc: 1.0000 - val_loss: 0.8591 - val_acc: 0.8953\n",
      "Epoch 69/100\n",
      " 83/100 [=======================>......] - ETA: 1s - loss: 1.1140e-07 - acc: 1.0000"
     ]
    },
    {
     "ename": "KeyboardInterrupt",
     "evalue": "",
     "output_type": "error",
     "traceback": [
      "\u001b[1;31m---------------------------------------------------------------------------\u001b[0m",
      "\u001b[1;31mKeyboardInterrupt\u001b[0m                         Traceback (most recent call last)",
      "\u001b[1;32m<ipython-input-39-8bcde05217a6>\u001b[0m in \u001b[0;36m<module>\u001b[1;34m()\u001b[0m\n\u001b[0;32m      3\u001b[0m                               \u001b[0mepochs\u001b[0m\u001b[1;33m=\u001b[0m\u001b[1;36m100\u001b[0m\u001b[1;33m,\u001b[0m\u001b[1;33m\u001b[0m\u001b[0m\n\u001b[0;32m      4\u001b[0m                               \u001b[0mvalidation_data\u001b[0m\u001b[1;33m=\u001b[0m\u001b[0mvalidation_generator\u001b[0m\u001b[1;33m,\u001b[0m\u001b[1;33m\u001b[0m\u001b[0m\n\u001b[1;32m----> 5\u001b[1;33m                               validation_steps=50)\n\u001b[0m",
      "\u001b[1;32md:\\Anaconda3\\lib\\site-packages\\keras\\legacy\\interfaces.py\u001b[0m in \u001b[0;36mwrapper\u001b[1;34m(*args, **kwargs)\u001b[0m\n\u001b[0;32m     89\u001b[0m                 warnings.warn('Update your `' + object_name +\n\u001b[0;32m     90\u001b[0m                               '` call to the Keras 2 API: ' + signature, stacklevel=2)\n\u001b[1;32m---> 91\u001b[1;33m             \u001b[1;32mreturn\u001b[0m \u001b[0mfunc\u001b[0m\u001b[1;33m(\u001b[0m\u001b[1;33m*\u001b[0m\u001b[0margs\u001b[0m\u001b[1;33m,\u001b[0m \u001b[1;33m**\u001b[0m\u001b[0mkwargs\u001b[0m\u001b[1;33m)\u001b[0m\u001b[1;33m\u001b[0m\u001b[0m\n\u001b[0m\u001b[0;32m     92\u001b[0m         \u001b[0mwrapper\u001b[0m\u001b[1;33m.\u001b[0m\u001b[0m_original_function\u001b[0m \u001b[1;33m=\u001b[0m \u001b[0mfunc\u001b[0m\u001b[1;33m\u001b[0m\u001b[0m\n\u001b[0;32m     93\u001b[0m         \u001b[1;32mreturn\u001b[0m \u001b[0mwrapper\u001b[0m\u001b[1;33m\u001b[0m\u001b[0m\n",
      "\u001b[1;32md:\\Anaconda3\\lib\\site-packages\\keras\\engine\\training.py\u001b[0m in \u001b[0;36mfit_generator\u001b[1;34m(self, generator, steps_per_epoch, epochs, verbose, callbacks, validation_data, validation_steps, class_weight, max_queue_size, workers, use_multiprocessing, shuffle, initial_epoch)\u001b[0m\n\u001b[0;32m   1424\u001b[0m             \u001b[0muse_multiprocessing\u001b[0m\u001b[1;33m=\u001b[0m\u001b[0muse_multiprocessing\u001b[0m\u001b[1;33m,\u001b[0m\u001b[1;33m\u001b[0m\u001b[0m\n\u001b[0;32m   1425\u001b[0m             \u001b[0mshuffle\u001b[0m\u001b[1;33m=\u001b[0m\u001b[0mshuffle\u001b[0m\u001b[1;33m,\u001b[0m\u001b[1;33m\u001b[0m\u001b[0m\n\u001b[1;32m-> 1426\u001b[1;33m             initial_epoch=initial_epoch)\n\u001b[0m\u001b[0;32m   1427\u001b[0m \u001b[1;33m\u001b[0m\u001b[0m\n\u001b[0;32m   1428\u001b[0m     \u001b[1;33m@\u001b[0m\u001b[0minterfaces\u001b[0m\u001b[1;33m.\u001b[0m\u001b[0mlegacy_generator_methods_support\u001b[0m\u001b[1;33m\u001b[0m\u001b[0m\n",
      "\u001b[1;32md:\\Anaconda3\\lib\\site-packages\\keras\\engine\\training_generator.py\u001b[0m in \u001b[0;36mfit_generator\u001b[1;34m(model, generator, steps_per_epoch, epochs, verbose, callbacks, validation_data, validation_steps, class_weight, max_queue_size, workers, use_multiprocessing, shuffle, initial_epoch)\u001b[0m\n\u001b[0;32m    189\u001b[0m                 outs = model.train_on_batch(x, y,\n\u001b[0;32m    190\u001b[0m                                             \u001b[0msample_weight\u001b[0m\u001b[1;33m=\u001b[0m\u001b[0msample_weight\u001b[0m\u001b[1;33m,\u001b[0m\u001b[1;33m\u001b[0m\u001b[0m\n\u001b[1;32m--> 191\u001b[1;33m                                             class_weight=class_weight)\n\u001b[0m\u001b[0;32m    192\u001b[0m \u001b[1;33m\u001b[0m\u001b[0m\n\u001b[0;32m    193\u001b[0m                 \u001b[1;32mif\u001b[0m \u001b[1;32mnot\u001b[0m \u001b[0misinstance\u001b[0m\u001b[1;33m(\u001b[0m\u001b[0mouts\u001b[0m\u001b[1;33m,\u001b[0m \u001b[0mlist\u001b[0m\u001b[1;33m)\u001b[0m\u001b[1;33m:\u001b[0m\u001b[1;33m\u001b[0m\u001b[0m\n",
      "\u001b[1;32md:\\Anaconda3\\lib\\site-packages\\keras\\engine\\training.py\u001b[0m in \u001b[0;36mtrain_on_batch\u001b[1;34m(self, x, y, sample_weight, class_weight)\u001b[0m\n\u001b[0;32m   1218\u001b[0m             \u001b[0mins\u001b[0m \u001b[1;33m=\u001b[0m \u001b[0mx\u001b[0m \u001b[1;33m+\u001b[0m \u001b[0my\u001b[0m \u001b[1;33m+\u001b[0m \u001b[0msample_weights\u001b[0m\u001b[1;33m\u001b[0m\u001b[0m\n\u001b[0;32m   1219\u001b[0m         \u001b[0mself\u001b[0m\u001b[1;33m.\u001b[0m\u001b[0m_make_train_function\u001b[0m\u001b[1;33m(\u001b[0m\u001b[1;33m)\u001b[0m\u001b[1;33m\u001b[0m\u001b[0m\n\u001b[1;32m-> 1220\u001b[1;33m         \u001b[0moutputs\u001b[0m \u001b[1;33m=\u001b[0m \u001b[0mself\u001b[0m\u001b[1;33m.\u001b[0m\u001b[0mtrain_function\u001b[0m\u001b[1;33m(\u001b[0m\u001b[0mins\u001b[0m\u001b[1;33m)\u001b[0m\u001b[1;33m\u001b[0m\u001b[0m\n\u001b[0m\u001b[0;32m   1221\u001b[0m         \u001b[1;32mif\u001b[0m \u001b[0mlen\u001b[0m\u001b[1;33m(\u001b[0m\u001b[0moutputs\u001b[0m\u001b[1;33m)\u001b[0m \u001b[1;33m==\u001b[0m \u001b[1;36m1\u001b[0m\u001b[1;33m:\u001b[0m\u001b[1;33m\u001b[0m\u001b[0m\n\u001b[0;32m   1222\u001b[0m             \u001b[1;32mreturn\u001b[0m \u001b[0moutputs\u001b[0m\u001b[1;33m[\u001b[0m\u001b[1;36m0\u001b[0m\u001b[1;33m]\u001b[0m\u001b[1;33m\u001b[0m\u001b[0m\n",
      "\u001b[1;32md:\\Anaconda3\\lib\\site-packages\\keras\\backend\\tensorflow_backend.py\u001b[0m in \u001b[0;36m__call__\u001b[1;34m(self, inputs)\u001b[0m\n\u001b[0;32m   2659\u001b[0m                 \u001b[1;32mreturn\u001b[0m \u001b[0mself\u001b[0m\u001b[1;33m.\u001b[0m\u001b[0m_legacy_call\u001b[0m\u001b[1;33m(\u001b[0m\u001b[0minputs\u001b[0m\u001b[1;33m)\u001b[0m\u001b[1;33m\u001b[0m\u001b[0m\n\u001b[0;32m   2660\u001b[0m \u001b[1;33m\u001b[0m\u001b[0m\n\u001b[1;32m-> 2661\u001b[1;33m             \u001b[1;32mreturn\u001b[0m \u001b[0mself\u001b[0m\u001b[1;33m.\u001b[0m\u001b[0m_call\u001b[0m\u001b[1;33m(\u001b[0m\u001b[0minputs\u001b[0m\u001b[1;33m)\u001b[0m\u001b[1;33m\u001b[0m\u001b[0m\n\u001b[0m\u001b[0;32m   2662\u001b[0m         \u001b[1;32melse\u001b[0m\u001b[1;33m:\u001b[0m\u001b[1;33m\u001b[0m\u001b[0m\n\u001b[0;32m   2663\u001b[0m             \u001b[1;32mif\u001b[0m \u001b[0mpy_any\u001b[0m\u001b[1;33m(\u001b[0m\u001b[0mis_tensor\u001b[0m\u001b[1;33m(\u001b[0m\u001b[0mx\u001b[0m\u001b[1;33m)\u001b[0m \u001b[1;32mfor\u001b[0m \u001b[0mx\u001b[0m \u001b[1;32min\u001b[0m \u001b[0minputs\u001b[0m\u001b[1;33m)\u001b[0m\u001b[1;33m:\u001b[0m\u001b[1;33m\u001b[0m\u001b[0m\n",
      "\u001b[1;32md:\\Anaconda3\\lib\\site-packages\\keras\\backend\\tensorflow_backend.py\u001b[0m in \u001b[0;36m_call\u001b[1;34m(self, inputs)\u001b[0m\n\u001b[0;32m   2629\u001b[0m                                 \u001b[0msymbol_vals\u001b[0m\u001b[1;33m,\u001b[0m\u001b[1;33m\u001b[0m\u001b[0m\n\u001b[0;32m   2630\u001b[0m                                 session)\n\u001b[1;32m-> 2631\u001b[1;33m         \u001b[0mfetched\u001b[0m \u001b[1;33m=\u001b[0m \u001b[0mself\u001b[0m\u001b[1;33m.\u001b[0m\u001b[0m_callable_fn\u001b[0m\u001b[1;33m(\u001b[0m\u001b[1;33m*\u001b[0m\u001b[0marray_vals\u001b[0m\u001b[1;33m)\u001b[0m\u001b[1;33m\u001b[0m\u001b[0m\n\u001b[0m\u001b[0;32m   2632\u001b[0m         \u001b[1;32mreturn\u001b[0m \u001b[0mfetched\u001b[0m\u001b[1;33m[\u001b[0m\u001b[1;33m:\u001b[0m\u001b[0mlen\u001b[0m\u001b[1;33m(\u001b[0m\u001b[0mself\u001b[0m\u001b[1;33m.\u001b[0m\u001b[0moutputs\u001b[0m\u001b[1;33m)\u001b[0m\u001b[1;33m]\u001b[0m\u001b[1;33m\u001b[0m\u001b[0m\n\u001b[0;32m   2633\u001b[0m \u001b[1;33m\u001b[0m\u001b[0m\n",
      "\u001b[1;32md:\\Anaconda3\\lib\\site-packages\\tensorflow\\python\\client\\session.py\u001b[0m in \u001b[0;36m__call__\u001b[1;34m(self, *args)\u001b[0m\n\u001b[0;32m   1449\u001b[0m         \u001b[1;32mif\u001b[0m \u001b[0mself\u001b[0m\u001b[1;33m.\u001b[0m\u001b[0m_session\u001b[0m\u001b[1;33m.\u001b[0m\u001b[0m_created_with_new_api\u001b[0m\u001b[1;33m:\u001b[0m\u001b[1;33m\u001b[0m\u001b[0m\n\u001b[0;32m   1450\u001b[0m           return tf_session.TF_SessionRunCallable(\n\u001b[1;32m-> 1451\u001b[1;33m               self._session._session, self._handle, args, status, None)\n\u001b[0m\u001b[0;32m   1452\u001b[0m         \u001b[1;32melse\u001b[0m\u001b[1;33m:\u001b[0m\u001b[1;33m\u001b[0m\u001b[0m\n\u001b[0;32m   1453\u001b[0m           return tf_session.TF_DeprecatedSessionRunCallable(\n",
      "\u001b[1;31mKeyboardInterrupt\u001b[0m: "
     ]
    }
   ],
   "source": [
    "history = model.fit_generator(train_generator, \n",
    "                              steps_per_epoch=100, \n",
    "                              epochs=100, \n",
    "                              validation_data=validation_generator,\n",
    "                              validation_steps=50)"
   ]
  },
  {
   "cell_type": "code",
   "execution_count": 9,
   "metadata": {},
   "outputs": [],
   "source": [
    "model.save('cats_and_dogs_small_2.h5')"
   ]
  },
  {
   "cell_type": "code",
   "execution_count": 11,
   "metadata": {},
   "outputs": [
    {
     "data": {
      "image/png": "[encoded data removed]",
      "text/plain": [
       "<Figure size 432x288 with 1 Axes>"
      ]
     },
     "metadata": {},
     "output_type": "display_data"
    },
    {
     "data": {
      "image/png": "[encoded data removed]",
      "text/plain": [
       "<Figure size 432x288 with 1 Axes>"
      ]
     },
     "metadata": {},
     "output_type": "display_data"
    }
   ],
   "source": [
    "import matplotlib.pyplot as plt\n",
    "acc = history.history['acc']\n",
    "val_acc = history.history['val_acc']\n",
    "loss = history.history['loss']\n",
    "val_loss = history.history['val_loss']\n",
    "\n",
    "epochs = range(1, len(acc)+1)\n",
    "plt.plot(epochs, acc, 'bo', label='Training acc')\n",
    "plt.plot(epochs, val_acc, 'b', label='Validation acc')\n",
    "plt.title('Training and validation accuracy')\n",
    "plt.legend()\n",
    "plt.figure()\n",
    "\n",
    "plt.plot(epochs, loss, 'bo', label='Training loss')\n",
    "plt.plot(epochs, val_loss, 'b', label='Validation loss')\n",
    "plt.title('Training and validation loss')\n",
    "\n",
    "plt.legend()\n",
    "plt.show()\n",
    "\n"
   ]
  },
  {
   "cell_type": "code",
   "execution_count": 21,
   "metadata": {},
   "outputs": [],
   "source": []
  },
  {
   "cell_type": "code",
   "execution_count": 34,
   "metadata": {},
   "outputs": [],
   "source": [
    "from keras.preprocessing import image\n",
    "\n",
    "fnames = [os.path.join(train_cats_dir, fname) for fname in os.listdir(train_cats_dir)]\n",
    "\n",
    "img_path = fnames[2]\n",
    "\n",
    "img = image.load_img(img_path, target_size=(150,150))\n",
    "x = image.img_to_array(img)\n",
    "x = x.reshape((1,) + x.shape)\n",
    "\n",
    "i=0\n",
    "for batch in datagen.flow(x,batch_size=1):\n",
    "    #plt.figure(i)\n",
    "    #imgplot = plt.imshow(image.array_to_img(batch[0]))\n",
    "    i += 1\n",
    "    if i% 8 ==0:\n",
    "        break\n",
    "        \n",
    "#plt.show()"
   ]
  },
  {
   "cell_type": "code",
   "execution_count": null,
   "metadata": {},
   "outputs": [],
   "source": []
  }
 ],
 "metadata": {
  "kernelspec": {
   "display_name": "Python 3",
   "language": "python",
   "name": "python3"
  },
  "language_info": {
   "codemirror_mode": {
    "name": "ipython",
    "version": 3
   },
   "file_extension": ".py",
   "mimetype": "text/x-python",
   "name": "python",
   "nbconvert_exporter": "python",
   "pygments_lexer": "ipython3",
   "version": "3.6.5"
  }
 },
 "nbformat": 4,
 "nbformat_minor": 1
}
