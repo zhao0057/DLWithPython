{
 "cells": [
  {
   "cell_type": "code",
   "execution_count": 10,
   "metadata": {},
   "outputs": [],
   "source": [
    "from keras.layers import SimpleRNN\n",
    "from keras.models import Sequential\n",
    "from keras.layers import Embedding\n",
    "from keras.layers import Dense"
   ]
  },
  {
   "cell_type": "code",
   "execution_count": 15,
   "metadata": {},
   "outputs": [
    {
     "name": "stdout",
     "output_type": "stream",
     "text": [
      "Loading data...\n",
      "25000 train sequences\n",
      "25000 test sequences\n"
     ]
    }
   ],
   "source": [
    "from keras.datasets import imdb\n",
    "from keras import preprocessing\n",
    "\n",
    "max_features = 10000\n",
    "maxlen = 500\n",
    "batch_size = 32\n",
    "print('Loading data...')\n",
    "(input_train, y_train), (input_test, y_test) = imdb.load_data(num_words=max_features)\n",
    "print(len(input_train), 'train sequences')\n",
    "print(len(input_test), 'test sequences')"
   ]
  },
  {
   "cell_type": "code",
   "execution_count": 16,
   "metadata": {},
   "outputs": [],
   "source": [
    "input_train = preprocessing.sequence.pad_sequences(input_train, maxlen = maxlen)\n",
    "input_test = preprocessing.sequence.pad_sequences(input_test, maxlen = maxlen)"
   ]
  },
  {
   "cell_type": "code",
   "execution_count": 17,
   "metadata": {},
   "outputs": [
    {
     "name": "stdout",
     "output_type": "stream",
     "text": [
      "_________________________________________________________________\n",
      "Layer (type)                 Output Shape              Param #   \n",
      "=================================================================\n",
      "embedding_7 (Embedding)      (None, None, 32)          320000    \n",
      "_________________________________________________________________\n",
      "simple_rnn_13 (SimpleRNN)    (None, 32)                2080      \n",
      "_________________________________________________________________\n",
      "dense_2 (Dense)              (None, 1)                 33        \n",
      "=================================================================\n",
      "Total params: 322,113\n",
      "Trainable params: 322,113\n",
      "Non-trainable params: 0\n",
      "_________________________________________________________________\n"
     ]
    }
   ],
   "source": [
    "model = Sequential()\n",
    "model.add(Embedding(max_features,32))\n",
    "#model.add(SimpleRNN(32, return_sequences=True))\n",
    "#model.add(SimpleRNN(32, return_sequences=True))\n",
    "#model.add(SimpleRNN(32, return_sequences=True))\n",
    "model.add(SimpleRNN(32))\n",
    "model.add(Dense(1,activation='sigmoid'))\n",
    "model.summary()"
   ]
  },
  {
   "cell_type": "code",
   "execution_count": 18,
   "metadata": {},
   "outputs": [
    {
     "name": "stdout",
     "output_type": "stream",
     "text": [
      "Train on 20000 samples, validate on 5000 samples\n",
      "Epoch 1/10\n",
      "20000/20000 [==============================] - 27s 1ms/step - loss: 0.6587 - acc: 0.5961 - val_loss: 0.5073 - val_acc: 0.7892\n",
      "Epoch 2/10\n",
      "20000/20000 [==============================] - 25s 1ms/step - loss: 0.4202 - acc: 0.8194 - val_loss: 0.4462 - val_acc: 0.7998\n",
      "Epoch 3/10\n",
      "20000/20000 [==============================] - 25s 1ms/step - loss: 0.3100 - acc: 0.8736 - val_loss: 0.4312 - val_acc: 0.8112\n",
      "Epoch 4/10\n",
      "20000/20000 [==============================] - 25s 1ms/step - loss: 0.2344 - acc: 0.9085 - val_loss: 0.3723 - val_acc: 0.8498\n",
      "Epoch 5/10\n",
      "20000/20000 [==============================] - 25s 1ms/step - loss: 0.1866 - acc: 0.9303 - val_loss: 0.3460 - val_acc: 0.8766\n",
      "Epoch 6/10\n",
      "20000/20000 [==============================] - 25s 1ms/step - loss: 0.1347 - acc: 0.9523 - val_loss: 0.3800 - val_acc: 0.8560\n",
      "Epoch 7/10\n",
      "20000/20000 [==============================] - 25s 1ms/step - loss: 0.0922 - acc: 0.9695 - val_loss: 0.3953 - val_acc: 0.8606\n",
      "Epoch 8/10\n",
      "20000/20000 [==============================] - 25s 1ms/step - loss: 0.0588 - acc: 0.9813 - val_loss: 0.5396 - val_acc: 0.8098\n",
      "Epoch 9/10\n",
      "20000/20000 [==============================] - 25s 1ms/step - loss: 0.0384 - acc: 0.9887 - val_loss: 0.5099 - val_acc: 0.8398\n",
      "Epoch 10/10\n",
      "20000/20000 [==============================] - 25s 1ms/step - loss: 0.0249 - acc: 0.9926 - val_loss: 0.5902 - val_acc: 0.8254\n"
     ]
    }
   ],
   "source": [
    "model.compile(optimizer='rmsprop', loss = 'binary_crossentropy', metrics=['acc'])\n",
    "history = model.fit(input_train, y_train, epochs=10, batch_size=128,validation_split=0.2)"
   ]
  },
  {
   "cell_type": "code",
   "execution_count": 20,
   "metadata": {},
   "outputs": [
    {
     "name": "stdout",
     "output_type": "stream",
     "text": [
      "_________________________________________________________________\n",
      "Layer (type)                 Output Shape              Param #   \n",
      "=================================================================\n",
      "embedding_9 (Embedding)      (None, None, 32)          320000    \n",
      "_________________________________________________________________\n",
      "lstm_1 (LSTM)                (None, 32)                8320      \n",
      "_________________________________________________________________\n",
      "dense_3 (Dense)              (None, 1)                 33        \n",
      "=================================================================\n",
      "Total params: 328,353\n",
      "Trainable params: 328,353\n",
      "Non-trainable params: 0\n",
      "_________________________________________________________________\n"
     ]
    }
   ],
   "source": [
    "from keras.layers import LSTM\n",
    "\n",
    "model = Sequential()\n",
    "model.add(Embedding(max_features,32))\n",
    "model.add(LSTM(32))\n",
    "model.add(Dense(1,activation='sigmoid'))\n",
    "model.summary()"
   ]
  },
  {
   "cell_type": "code",
   "execution_count": 21,
   "metadata": {},
   "outputs": [
    {
     "name": "stdout",
     "output_type": "stream",
     "text": [
      "Train on 20000 samples, validate on 5000 samples\n",
      "Epoch 1/10\n",
      "20000/20000 [==============================] - 103s 5ms/step - loss: 0.5019 - acc: 0.7638 - val_loss: 0.4425 - val_acc: 0.8194\n",
      "Epoch 2/10\n",
      "20000/20000 [==============================] - 102s 5ms/step - loss: 0.2920 - acc: 0.8863 - val_loss: 0.3198 - val_acc: 0.8652\n",
      "Epoch 3/10\n",
      "20000/20000 [==============================] - 103s 5ms/step - loss: 0.2276 - acc: 0.9131 - val_loss: 0.5026 - val_acc: 0.8470\n",
      "Epoch 4/10\n",
      "20000/20000 [==============================] - 103s 5ms/step - loss: 0.1994 - acc: 0.9277 - val_loss: 0.2908 - val_acc: 0.8782\n",
      "Epoch 5/10\n",
      "20000/20000 [==============================] - 103s 5ms/step - loss: 0.1750 - acc: 0.9365 - val_loss: 0.3268 - val_acc: 0.8866\n",
      "Epoch 6/10\n",
      "20000/20000 [==============================] - 102s 5ms/step - loss: 0.1550 - acc: 0.9440 - val_loss: 0.3601 - val_acc: 0.8550\n",
      "Epoch 7/10\n",
      "20000/20000 [==============================] - 104s 5ms/step - loss: 0.1440 - acc: 0.9492 - val_loss: 0.3433 - val_acc: 0.8894\n",
      "Epoch 8/10\n",
      "20000/20000 [==============================] - 103s 5ms/step - loss: 0.1319 - acc: 0.9538 - val_loss: 0.3362 - val_acc: 0.8832\n",
      "Epoch 9/10\n",
      "20000/20000 [==============================] - 101s 5ms/step - loss: 0.1227 - acc: 0.9561 - val_loss: 0.3831 - val_acc: 0.8622\n",
      "Epoch 10/10\n",
      "20000/20000 [==============================] - 106s 5ms/step - loss: 0.1092 - acc: 0.9629 - val_loss: 0.4118 - val_acc: 0.8798\n"
     ]
    }
   ],
   "source": [
    "model.compile(optimizer='rmsprop', loss = 'binary_crossentropy', metrics=['acc'])\n",
    "history = model.fit(input_train, y_train, epochs=10, batch_size=128,validation_split=0.2)"
   ]
  },
  {
   "cell_type": "code",
   "execution_count": null,
   "metadata": {},
   "outputs": [],
   "source": []
  }
 ],
 "metadata": {
  "kernelspec": {
   "display_name": "Python 3",
   "language": "python",
   "name": "python3"
  },
  "language_info": {
   "codemirror_mode": {
    "name": "ipython",
    "version": 3
   },
   "file_extension": ".py",
   "mimetype": "text/x-python",
   "name": "python",
   "nbconvert_exporter": "python",
   "pygments_lexer": "ipython3",
   "version": "3.6.5"
  }
 },
 "nbformat": 4,
 "nbformat_minor": 2
}
