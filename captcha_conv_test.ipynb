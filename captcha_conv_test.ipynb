{
 "cells": [
  {
   "cell_type": "code",
   "execution_count": 11,
   "metadata": {},
   "outputs": [],
   "source": [
    "import os, shutil\n",
    "import tensorflow as tf\n",
    "import numpy as np\n",
    "from keras import models\n",
    "from keras.models import load_model\n",
    "from keras.preprocessing import image\n",
    "\n",
    "config = tf.ConfigProto()\n",
    "config.gpu_options.allow_growth = True\n",
    "tf.Session(config=config)\n",
    "\n",
    "IMAGE_HEIGHT = 60\n",
    "IMAGE_WIDTH = 180\n",
    "test_num = 10000\n",
    "MAXLABEL = 40\n",
    "base_dir = 'D:\\src\\captchagen\\out'\n",
    "\n",
    "\n",
    "def convert2gray(img):\n",
    "    if len(img.shape) > 2:\n",
    "        gray = np.mean(img, -1)\n",
    "        return gray\n",
    "    else:\n",
    "        return img\n",
    "    \n",
    "def num2vec(num):\n",
    "    if num < 0 or num > 9999 :\n",
    "        raise ValueError('number not in range 0-9999')\n",
    "    vector = np.zeros(MAXLABEL)\n",
    "    i = 0\n",
    "    while int(num) > 0:\n",
    "        idx = i * 10 + int(num) % 10\n",
    "        #print(idx)\n",
    "        num /= 10\n",
    "        i += 1\n",
    "        vector[idx] = 1 \n",
    "    return vector\n",
    "\n",
    "test_dir = os.path.join(base_dir, 'test')\n",
    "test_set = np.ndarray(shape=(test_num, IMAGE_HEIGHT, IMAGE_WIDTH),dtype=np.float32)\n",
    "test_label = np.ndarray(shape=(test_num, MAXLABEL),dtype=np.float32)\n",
    "test_num = 10000\n",
    "for i in range(test_num) :\n",
    "    fname = '{}.png'.format(i)\n",
    "    file = os.path.join(test_dir,fname)\n",
    "    img = image.load_img(file, target_size=(IMAGE_HEIGHT,IMAGE_WIDTH))\n",
    "    arr = np.asarray(img,dtype=\"float32\")/255.0\n",
    "    arr = convert2gray(arr)\n",
    "    test_set[i] = arr    \n",
    "    test_label[i] = num2vec(i)\n",
    "\n",
    "test_set = test_set.reshape((test_num,IMAGE_HEIGHT, IMAGE_WIDTH,1))"
   ]
  },
  {
   "cell_type": "code",
   "execution_count": 31,
   "metadata": {},
   "outputs": [
    {
     "data": {
      "text/plain": [
       "array([2, 1, 8, 4], dtype=int64)"
      ]
     },
     "execution_count": 31,
     "metadata": {},
     "output_type": "execute_result"
    }
   ],
   "source": [
    "model = load_model('weights-improvement-226-0.97.hdf5')\n",
    "real_label = model.predict(test_set)"
   ]
  },
  {
   "cell_type": "code",
   "execution_count": 32,
   "metadata": {},
   "outputs": [
    {
     "data": {
      "text/plain": [
       "array([2, 1, 8, 4], dtype=int64)"
      ]
     },
     "execution_count": 32,
     "metadata": {},
     "output_type": "execute_result"
    }
   ],
   "source": [
    "alabel = real_label[812].reshape(4,10)\n",
    "numvec = alabel.argmax(axis=1)\n",
    "numvec"
   ]
  },
  {
   "cell_type": "code",
   "execution_count": 35,
   "metadata": {},
   "outputs": [
    {
     "data": {
      "text/plain": [
       "8713"
      ]
     },
     "execution_count": 35,
     "metadata": {},
     "output_type": "execute_result"
    }
   ],
   "source": [
    "acc = 0\n",
    "for i in range(10000):\n",
    "    alabel = real_label[i].reshape(4,10)\n",
    "    numvec = alabel.argmax(axis=1)\n",
    "    num = numvec[3]*1000 +  numvec[2]*100 + numvec[1]*10 + numvec[0]\n",
    "    if num == i:\n",
    "        acc +=1\n",
    "        \n",
    "acc"
   ]
  },
  {
   "cell_type": "code",
   "execution_count": null,
   "metadata": {},
   "outputs": [],
   "source": []
  }
 ],
 "metadata": {
  "kernelspec": {
   "display_name": "Python 3",
   "language": "python",
   "name": "python3"
  },
  "language_info": {
   "codemirror_mode": {
    "name": "ipython",
    "version": 3
   },
   "file_extension": ".py",
   "mimetype": "text/x-python",
   "name": "python",
   "nbconvert_exporter": "python",
   "pygments_lexer": "ipython3",
   "version": "3.6.5"
  }
 },
 "nbformat": 4,
 "nbformat_minor": 2
}
